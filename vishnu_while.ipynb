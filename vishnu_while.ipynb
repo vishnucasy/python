{
 "cells": [
  {
   "cell_type": "code",
   "execution_count": 5,
   "id": "e68a5603",
   "metadata": {},
   "outputs": [
    {
     "name": "stdout",
     "output_type": "stream",
     "text": [
      "AbCdE"
     ]
    }
   ],
   "source": [
    "#1 string abcde and output AbCdE\n",
    "x=0\n",
    "y=\"abcde\"\n",
    "z=len(y)\n",
    "while x<z:\n",
    "    if x%2==0:\n",
    "        a=(y[x].upper())\n",
    "        print(a,end='')\n",
    "    else:\n",
    "        print(y[x],end='')\n",
    "    x=x+1\n",
    "    "
   ]
  },
  {
   "cell_type": "code",
   "execution_count": 6,
   "id": "d293f5b5",
   "metadata": {},
   "outputs": [
    {
     "name": "stdout",
     "output_type": "stream",
     "text": [
      "<class 'str'>\n",
      "<class 'float'>\n",
      "<class 'int'>\n",
      "<class 'str'>\n",
      "<class 'complex'>\n"
     ]
    }
   ],
   "source": [
    "\n",
    "x=0\n",
    "y=[\"a\",1.2,302,\"abc\",1+2j]\n",
    "z=len(y)\n",
    "while x<z:\n",
    "    print(type(y[x]))\n",
    "    x=x+1"
   ]
  },
  {
   "cell_type": "code",
   "execution_count": 13,
   "id": "1ebdaa0c",
   "metadata": {},
   "outputs": [
    {
     "name": "stdout",
     "output_type": "stream",
     "text": [
      "abde10"
     ]
    }
   ],
   "source": [
    "x=0\n",
    "y=[\"a\",\"b\",1,2,3,\"d\",\"e\",4]\n",
    "z=len(y)\n",
    "while x<z:\n",
    "    if type(y[x])==str:\n",
    "        print(y[x],end=\"\")\n",
    "    else:\n",
    "        s=y[2]+y[3]+y[4]+y[-1]\n",
    "    x=x+1\n",
    "print(s,end=\"\")   "
   ]
  },
  {
   "cell_type": "code",
   "execution_count": 4,
   "id": "bea49958",
   "metadata": {},
   "outputs": [
    {
     "name": "stdout",
     "output_type": "stream",
     "text": [
      "Enter stringabcde1234\n",
      "Alfabets are : ['a', 'b', 'c', 'd', 'e']\n",
      "Numbers are :  ['1', '2', '3', '4']\n"
     ]
    }
   ],
   "source": [
    "x=0\n",
    "y=input(\"Enter string\")\n",
    "z=list(y)\n",
    "q=[]\n",
    "w=[]\n",
    "while x<len(z):\n",
    "    if z[x].isalpha():\n",
    "        q.append(z[x])\n",
    "    else:\n",
    "        w.append(z[x])\n",
    "    x=x+1\n",
    "print(\"Alfabets are :\",q)\n",
    "print(\"Numbers are : \",w)"
   ]
  },
  {
   "cell_type": "code",
   "execution_count": 5,
   "id": "50c0fbb4",
   "metadata": {},
   "outputs": [
    {
     "name": "stdout",
     "output_type": "stream",
     "text": [
      "1 3 a "
     ]
    }
   ],
   "source": [
    "#to find duplicates\n",
    "a=[1,2,3,\"a\",\"b\"]\n",
    "b=[6,1,3,\"a\",\"d\"]\n",
    "i=0\n",
    "r=[]\n",
    "while(i<len(a)):\n",
    "    j=0\n",
    "    while(j<len(b)):\n",
    "        if a[i]==b[j]:\n",
    "            print(a[i],end=' ')\n",
    "        j=j+1\n",
    "    i=i+1"
   ]
  },
  {
   "cell_type": "code",
   "execution_count": null,
   "id": "757a50d7",
   "metadata": {},
   "outputs": [
    {
     "name": "stdout",
     "output_type": "stream",
     "text": [
      "1. Addition\n",
      "2. Subtraction\n",
      "3. Multiplication\n",
      "4. Division\n"
     ]
    }
   ],
   "source": [
    "#multi function calculator\n",
    "\n",
    "while True:\n",
    "    print(\"1. Addition\")\n",
    "    print(\"2. Subtraction\")\n",
    "    print(\"3. Multiplication\")\n",
    "    print(\"4. Division\")    \n",
    "    z=int(input(\"Enter your choice(1-4):\"))\n",
    "    x=int(input(\"Enter 1st Number:\"))\n",
    "    y=int(input(\"Enter 2nd Number:\"))\n",
    "\n",
    "    if z==1:\n",
    "        print(\"sum of two numbers is :\",x+y)\n",
    "    elif z==2:\n",
    "        print(\"sub of two numbers is :\",x-y)\n",
    "    elif z==3:\n",
    "        print(\"multiplication of two numbers is :\",x*y) \n",
    "    elif z==4:\n",
    "        print(\"sum of two numbers is :\",x/y)\n",
    "    else:\n",
    "        print(\"wrong..!!\")"
   ]
  },
  {
   "cell_type": "code",
   "execution_count": null,
   "id": "772b47b5",
   "metadata": {},
   "outputs": [],
   "source": []
  }
 ],
 "metadata": {
  "kernelspec": {
   "display_name": "Python 3 (ipykernel)",
   "language": "python",
   "name": "python3"
  },
  "language_info": {
   "codemirror_mode": {
    "name": "ipython",
    "version": 3
   },
   "file_extension": ".py",
   "mimetype": "text/x-python",
   "name": "python",
   "nbconvert_exporter": "python",
   "pygments_lexer": "ipython3",
   "version": "3.10.4"
  }
 },
 "nbformat": 4,
 "nbformat_minor": 5
}
