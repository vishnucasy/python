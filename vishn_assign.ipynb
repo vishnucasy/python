{
 "cells": [
  {
   "cell_type": "raw",
   "id": "a54bda1c",
   "metadata": {},
   "source": [
    "# Q1. Write a program to accept percentage from the user and display the grade according to the following criteria:\n",
    "\n",
    "         Marks                                    Grade\n",
    "         > 90                                        A\n",
    "         > 80 and <= 90                              B\n",
    "         >= 60 and <= 80                             C\n",
    "         below 60                                    D\n",
    "         "
   ]
  },
  {
   "cell_type": "code",
   "execution_count": 1,
   "id": "6efa3aab",
   "metadata": {},
   "outputs": [
    {
     "name": "stdout",
     "output_type": "stream",
     "text": [
      "Enter your percentage :56\n",
      "You got D\n"
     ]
    }
   ],
   "source": [
    "m=int(input(\"Enter your percentage :\"))\n",
    "if m>90:\n",
    "    print(\"You got A\")\n",
    "elif m>80 and m<=90:\n",
    "    print(\"You got B\")\n",
    "elif m>=60 and m<=80:\n",
    "    print(\"You got C\")\n",
    "elif m<60:\n",
    "    print(\"You got D\")\n",
    "else:\n",
    "    print(\"byeeeeeeeee !!\")"
   ]
  },
  {
   "cell_type": "raw",
   "id": "764aa859",
   "metadata": {},
   "source": [
    "Q2. Write a program to accept the cost price of a bike and display the road tax to be paid according to the following criteria :\n",
    "    \n",
    "        Cost price (in Rs)                                       Tax\n",
    "        > 100000                                                  15 %\n",
    "        > 50000 and <= 100000                                     10%\n",
    "        <= 50000                                                   5%"
   ]
  },
  {
   "cell_type": "code",
   "execution_count": 3,
   "id": "30975ce6",
   "metadata": {},
   "outputs": [
    {
     "name": "stdout",
     "output_type": "stream",
     "text": [
      "Enter Cost of your bike :50000\n",
      "Road tax is 25000.0\n"
     ]
    }
   ],
   "source": [
    "bike=int(input(\"Enter Cost of your bike :\"))\n",
    "if bike>100000:\n",
    "    print(\"Road tax is\",bike*0.15)\n",
    "elif bike>50000 and bike<=100000:\n",
    "    print(\"Road tax is\",bike*0.10) \n",
    "elif bike<= 50000:\n",
    "    print(\"Road tax is\",bike*0.50)\n",
    "else:\n",
    "    print(\"No Entry ..!\")"
   ]
  },
  {
   "cell_type": "raw",
   "id": "6d48bee6",
   "metadata": {},
   "source": [
    "Q4. Write a program to check whether a person is eligible for voting or not. (accept age from user)\n"
   ]
  },
  {
   "cell_type": "code",
   "execution_count": 2,
   "id": "2931dbc1",
   "metadata": {},
   "outputs": [
    {
     "name": "stdout",
     "output_type": "stream",
     "text": [
      "Enter your age :18\n",
      "Eligible for voting\n"
     ]
    }
   ],
   "source": [
    "x=int(input(\"Enter your age :\"))\n",
    "if x>=18:\n",
    "     print(\"Eligible for voting\")\n",
    "else:\n",
    "     print(\"Not eligible..!\")"
   ]
  },
  {
   "cell_type": "raw",
   "id": "a7fc28c8",
   "metadata": {},
   "source": [
    "Q6. Write a program to check whether a number is divisible by 7 or not."
   ]
  },
  {
   "cell_type": "code",
   "execution_count": 5,
   "id": "3f28b56d",
   "metadata": {},
   "outputs": [
    {
     "name": "stdout",
     "output_type": "stream",
     "text": [
      "Enter a Number :34\n",
      "It is not divisible\n"
     ]
    }
   ],
   "source": [
    "numb=int(input(\"Enter a Number :\"))\n",
    "if numb%7==0:\n",
    "    print(\"It is divisible\")\n",
    "else:\n",
    "    print(\"It is not divisible\")"
   ]
  },
  {
   "cell_type": "raw",
   "id": "a436647b",
   "metadata": {},
   "source": [
    "Q7. Write a program to display \"Hello\" if a number entered by user is a multiple of five , \n",
    "otherwise print \"Bye\".\n"
   ]
  },
  {
   "cell_type": "code",
   "execution_count": 7,
   "id": "89a3e5a5",
   "metadata": {},
   "outputs": [
    {
     "name": "stdout",
     "output_type": "stream",
     "text": [
      "Enter a num :78\n",
      "BYe\n"
     ]
    }
   ],
   "source": [
    "x=int(input(\"Enter a num :\"))\n",
    "if x%5==0: \n",
    "    print(\"Hello\")\n",
    "else:\n",
    "    print(\"BYe\") "
   ]
  },
  {
   "cell_type": "raw",
   "id": "988ee979",
   "metadata": {},
   "source": [
    "Q8. Write a program to calculate the electricity bill (accept number of unit from user) according to the following criteria :\n",
    "             Unit                                                     Price  \n",
    "First 100 units                                               no charge\n",
    "Next 100 units                                              Rs 5 per unit\n",
    "After 200 units                                             Rs 10 per unit\n",
    "(For example if input unit is 350 than total bill amount is Rs2000)\n"
   ]
  },
  {
   "cell_type": "code",
   "execution_count": 14,
   "id": "81d2d1d7",
   "metadata": {},
   "outputs": [
    {
     "name": "stdout",
     "output_type": "stream",
     "text": [
      "Enter electricity unit :350\n",
      "charge is 2000\n"
     ]
    }
   ],
   "source": [
    "x=int(input(\"Enter electricity unit :\"))\n",
    "if x<100:\n",
    "    print(\"No charge\")\n",
    "elif x>100 and x<200:\n",
    "    print(\"charge is\",(x-100)*5)\n",
    "elif x>200:\n",
    "    x=x-100\n",
    "    print(\"charge is\",500+(x-100)*10)"
   ]
  },
  {
   "cell_type": "raw",
   "id": "b3bf47ae",
   "metadata": {},
   "source": [
    "Q9. Write a program to display the last digit of a number.\n",
    "(hint : any number % 10 will return the last digit)\n"
   ]
  },
  {
   "cell_type": "code",
   "execution_count": 12,
   "id": "027c53e3",
   "metadata": {},
   "outputs": [
    {
     "name": "stdout",
     "output_type": "stream",
     "text": [
      "Enter a number :45\n",
      "Last digit of number is  5\n"
     ]
    }
   ],
   "source": [
    "num=int(input(\"Enter a number :\"))\n",
    "s=num%10\n",
    "print(\"Last digit of number is \",s)\n"
   ]
  },
  {
   "cell_type": "raw",
   "id": "10016d67",
   "metadata": {},
   "source": [
    "Q10. Write a program to check whether the last digit of a number( entered by user ) is \n",
    "divisible by 3 or not."
   ]
  },
  {
   "cell_type": "code",
   "execution_count": 13,
   "id": "0a609c22",
   "metadata": {},
   "outputs": [
    {
     "name": "stdout",
     "output_type": "stream",
     "text": [
      "Enter a num :21\n",
      "it is not\n"
     ]
    }
   ],
   "source": [
    "x=int(input(\"Enter a num :\"))\n",
    "y=x%10\n",
    "if y%3==0: \n",
    "    print(\"it is divisible by 3\")\n",
    "else:\n",
    "    print(\"it is not\")"
   ]
  },
  {
   "cell_type": "raw",
   "id": "1f64f5a7",
   "metadata": {},
   "source": [
    "Q5. Write a program to check whether a number entered by user is even or odd."
   ]
  },
  {
   "cell_type": "code",
   "execution_count": 15,
   "id": "a40c845d",
   "metadata": {},
   "outputs": [
    {
     "name": "stdout",
     "output_type": "stream",
     "text": [
      "Enter a number :23\n",
      "Odd\n"
     ]
    }
   ],
   "source": [
    "num=int(input(\"Enter a number :\"))\n",
    "if num%2==0:\n",
    "    print(\"Even\")\n",
    "else:\n",
    "    print(\"Odd\")"
   ]
  },
  {
   "cell_type": "code",
   "execution_count": null,
   "id": "129c545c",
   "metadata": {},
   "outputs": [],
   "source": []
  }
 ],
 "metadata": {
  "kernelspec": {
   "display_name": "Python 3 (ipykernel)",
   "language": "python",
   "name": "python3"
  },
  "language_info": {
   "codemirror_mode": {
    "name": "ipython",
    "version": 3
   },
   "file_extension": ".py",
   "mimetype": "text/x-python",
   "name": "python",
   "nbconvert_exporter": "python",
   "pygments_lexer": "ipython3",
   "version": "3.10.4"
  }
 },
 "nbformat": 4,
 "nbformat_minor": 5
}
